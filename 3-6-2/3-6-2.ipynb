{
  "nbformat": 4,
  "nbformat_minor": 0,
  "metadata": {
    "colab": {
      "provenance": []
    },
    "kernelspec": {
      "name": "python3",
      "display_name": "Python 3"
    },
    "language_info": {
      "name": "python"
    }
  },
  "cells": [
    {
      "cell_type": "code",
      "execution_count": 13,
      "metadata": {
        "colab": {
          "base_uri": "https://localhost:8080/"
        },
        "id": "qZkrh6rykKx_",
        "outputId": "6b133f44-15d1-47f1-c377-5bf9b0f06657"
      },
      "outputs": [
        {
          "output_type": "stream",
          "name": "stdout",
          "text": [
            "Requirement already satisfied: pyspark in /usr/local/lib/python3.10/dist-packages (3.5.1)\n",
            "Requirement already satisfied: py4j==0.10.9.7 in /usr/local/lib/python3.10/dist-packages (from pyspark) (0.10.9.7)\n"
          ]
        }
      ],
      "source": [
        "!pip install pyspark"
      ]
    },
    {
      "cell_type": "code",
      "source": [
        "!pip install faker"
      ],
      "metadata": {
        "colab": {
          "base_uri": "https://localhost:8080/"
        },
        "id": "cOM8l5CbtDME",
        "outputId": "c8a2cd7a-7c68-486c-d230-4cec4736c06a"
      },
      "execution_count": 22,
      "outputs": [
        {
          "output_type": "stream",
          "name": "stdout",
          "text": [
            "Collecting faker\n",
            "  Downloading Faker-26.0.0-py3-none-any.whl.metadata (15 kB)\n",
            "Requirement already satisfied: python-dateutil>=2.4 in /usr/local/lib/python3.10/dist-packages (from faker) (2.8.2)\n",
            "Requirement already satisfied: six>=1.5 in /usr/local/lib/python3.10/dist-packages (from python-dateutil>=2.4->faker) (1.16.0)\n",
            "Downloading Faker-26.0.0-py3-none-any.whl (1.8 MB)\n",
            "\u001b[?25l   \u001b[90m━━━━━━━━━━━━━━━━━━━━━━━━━━━━━━━━━━━━━━━━\u001b[0m \u001b[32m0.0/1.8 MB\u001b[0m \u001b[31m?\u001b[0m eta \u001b[36m-:--:--\u001b[0m\r\u001b[2K   \u001b[91m━━━━━━━━━━━━━━━━━━━━━━━━━━━━━━━\u001b[0m\u001b[90m╺\u001b[0m\u001b[90m━━━━━━━━\u001b[0m \u001b[32m1.4/1.8 MB\u001b[0m \u001b[31m42.1 MB/s\u001b[0m eta \u001b[36m0:00:01\u001b[0m\r\u001b[2K   \u001b[90m━━━━━━━━━━━━━━━━━━━━━━━━━━━━━━━━━━━━━━━━\u001b[0m \u001b[32m1.8/1.8 MB\u001b[0m \u001b[31m29.8 MB/s\u001b[0m eta \u001b[36m0:00:00\u001b[0m\n",
            "\u001b[?25hInstalling collected packages: faker\n",
            "Successfully installed faker-26.0.0\n"
          ]
        }
      ]
    },
    {
      "cell_type": "code",
      "source": [
        " !pip install item"
      ],
      "metadata": {
        "colab": {
          "base_uri": "https://localhost:8080/"
        },
        "id": "1gwQ6OW3z0ut",
        "outputId": "f8290db5-df1e-4640-f356-dd07198f60ad"
      },
      "execution_count": 26,
      "outputs": [
        {
          "output_type": "stream",
          "name": "stdout",
          "text": [
            "Collecting item\n",
            "  Downloading item-0.0.3.tar.gz (7.6 kB)\n",
            "  Preparing metadata (setup.py) ... \u001b[?25l\u001b[?25hdone\n",
            "Collecting selection (from item)\n",
            "  Downloading selection-0.0.21.tar.gz (9.0 kB)\n",
            "  Installing build dependencies ... \u001b[?25l\u001b[?25hdone\n",
            "  Getting requirements to build wheel ... \u001b[?25l\u001b[?25hdone\n",
            "  Preparing metadata (pyproject.toml) ... \u001b[?25l\u001b[?25hdone\n",
            "Collecting weblib (from item)\n",
            "  Downloading weblib-0.1.30.tar.gz (30 kB)\n",
            "  Preparing metadata (setup.py) ... \u001b[?25l\u001b[?25hdone\n",
            "Requirement already satisfied: lxml in /usr/local/lib/python3.10/dist-packages (from selection->item) (4.9.4)\n",
            "Collecting pytils (from weblib->item)\n",
            "  Downloading pytils-0.4.1.tar.gz (99 kB)\n",
            "\u001b[2K     \u001b[90m━━━━━━━━━━━━━━━━━━━━━━━━━━━━━━━━━━━━━━━━\u001b[0m \u001b[32m99.1/99.1 kB\u001b[0m \u001b[31m6.4 MB/s\u001b[0m eta \u001b[36m0:00:00\u001b[0m\n",
            "\u001b[?25h  Installing build dependencies ... \u001b[?25l\u001b[?25hdone\n",
            "  Getting requirements to build wheel ... \u001b[?25l\u001b[?25hdone\n",
            "  Preparing metadata (pyproject.toml) ... \u001b[?25l\u001b[?25hdone\n",
            "Requirement already satisfied: six in /usr/local/lib/python3.10/dist-packages (from weblib->item) (1.16.0)\n",
            "Collecting user_agent (from weblib->item)\n",
            "  Downloading user_agent-0.1.10.tar.gz (20 kB)\n",
            "  Preparing metadata (setup.py) ... \u001b[?25l\u001b[?25hdone\n",
            "Building wheels for collected packages: item, selection, weblib, pytils, user_agent\n",
            "  Building wheel for item (setup.py) ... \u001b[?25l\u001b[?25hdone\n",
            "  Created wheel for item: filename=item-0.0.3-py3-none-any.whl size=9772 sha256=269662ffa9c5cbe75b04272483d2fe309710d25f837b09a7de1e8c8fcc512997\n",
            "  Stored in directory: /root/.cache/pip/wheels/d5/a8/05/6d67dc1c5e0629034e2fd59a76b3e2873aadf845c107c6f9d7\n",
            "  Building wheel for selection (pyproject.toml) ... \u001b[?25l\u001b[?25hdone\n",
            "  Created wheel for selection: filename=selection-0.0.21-py3-none-any.whl size=9148 sha256=971ed41f0e12b7a70d80fbb0c94c23d1c96b526967707d9fca0453179ad4a781\n",
            "  Stored in directory: /root/.cache/pip/wheels/8c/f6/5a/9726f413cdbf6d3eeeff46c77145acabb73468ff12ec54bb7c\n",
            "  Building wheel for weblib (setup.py) ... \u001b[?25l\u001b[?25hdone\n",
            "  Created wheel for weblib: filename=weblib-0.1.30-py3-none-any.whl size=40151 sha256=b4cbb5642e68de4d1079efd24bff7975a3b152926c0672c52763ecc3581c49cc\n",
            "  Stored in directory: /root/.cache/pip/wheels/f7/7f/8a/8708f6b74b8b223c2d03602bf95a43e2e64a9256695a81d833\n",
            "  Building wheel for pytils (pyproject.toml) ... \u001b[?25l\u001b[?25hdone\n",
            "  Created wheel for pytils: filename=pytils-0.4.1-py3-none-any.whl size=32868 sha256=dba01e451df2a366e2dc6388d7d704f03b4fec03eef968dafefe061e0ef5c836\n",
            "  Stored in directory: /root/.cache/pip/wheels/5a/eb/7c/3b6f0c25815749883152b2caca34c35dbaab13ec2864270cbd\n",
            "  Building wheel for user_agent (setup.py) ... \u001b[?25l\u001b[?25hdone\n",
            "  Created wheel for user_agent: filename=user_agent-0.1.10-py3-none-any.whl size=18966 sha256=5cb02e885d741f02ec35c493850981034f8c8353affa724acd0cd769c4a73e4e\n",
            "  Stored in directory: /root/.cache/pip/wheels/69/29/26/1956a891a058037774285ee79ab5c3ecf034dba50a4198fedd\n",
            "Successfully built item selection weblib pytils user_agent\n",
            "Installing collected packages: user_agent, selection, pytils, weblib, item\n",
            "Successfully installed item-0.0.3 pytils-0.4.1 selection-0.0.21 user_agent-0.1.10 weblib-0.1.30\n"
          ]
        }
      ]
    },
    {
      "cell_type": "code",
      "source": [
        "!pip install install-jdk"
      ],
      "metadata": {
        "colab": {
          "base_uri": "https://localhost:8080/"
        },
        "id": "gqN1puM6ziKe",
        "outputId": "7afaf191-6779-4df8-f196-97e97643ebd8"
      },
      "execution_count": 24,
      "outputs": [
        {
          "output_type": "stream",
          "name": "stdout",
          "text": [
            "Collecting install-jdk\n",
            "  Downloading install_jdk-1.1.0-py3-none-any.whl.metadata (12 kB)\n",
            "Downloading install_jdk-1.1.0-py3-none-any.whl (15 kB)\n",
            "Installing collected packages: install-jdk\n",
            "Successfully installed install-jdk-1.1.0\n"
          ]
        }
      ]
    },
    {
      "cell_type": "code",
      "source": [
        "!pip install findspark"
      ],
      "metadata": {
        "colab": {
          "base_uri": "https://localhost:8080/"
        },
        "id": "Df6rZt8TtKce",
        "outputId": "c8f1cf6b-d393-498c-f198-b7fc9837b6a5"
      },
      "execution_count": 15,
      "outputs": [
        {
          "output_type": "stream",
          "name": "stdout",
          "text": [
            "Requirement already satisfied: findspark in /usr/local/lib/python3.10/dist-packages (2.0.1)\n"
          ]
        }
      ]
    },
    {
      "cell_type": "markdown",
      "source": [],
      "metadata": {
        "id": "_WIXalZ5vtyD"
      }
    },
    {
      "cell_type": "code",
      "source": [],
      "metadata": {
        "id": "s_Uei_lsvYlE"
      },
      "execution_count": null,
      "outputs": []
    },
    {
      "cell_type": "code",
      "source": [
        "from pyspark.sql import SparkSession\n",
        "from pyspark.sql.types import StructType, StructField, IntegerType, StringType,DateType,FloatType\n",
        "from faker import Faker\n",
        "from pyspark.sql.functions import sum,desc\n",
        "import random\n",
        "from datetime import datetime,timedelta\n",
        "import item\n",
        "from google.colab import files #\n",
        "\n",
        "# Создание объекта SparkSession\n",
        "spark = SparkSession.builder \\\n",
        "    .appName(\"StudentDataGeneration\") \\\n",
        "    .getOrCreate()\n",
        "\n",
        "#список 7 товаров\n",
        "data4 = [\n",
        "    {\"tovar_id\": 1,\"name\":\"Мука\"},\n",
        "    {\"tovar_id\": 2,\"name\":\"Рис\"},\n",
        "    {\"tovar_id\": 3,\"name\":\"Хлеб\"},\n",
        "    {\"tovar_id\": 4,\"name\": \"Мясо\" },\n",
        "    {\"tovar_id\": 5,\"name\": \"Пельмени\" },\n",
        "    {\"tovar_id\": 6,\"name\": \"Сливочное масло\" },\n",
        "    {\"tovar_id\": 7,\"name\": \"Молоко\" },\n",
        "]\n",
        "\n",
        "#columns4 = [\"tovar_id\",\"name\"]\n",
        "\n",
        "names = [ item[\"name\"] for item in data4 ]\n",
        "\n",
        "# Определение схемы покупок для DataFrame\n",
        "schema5 = StructType([\n",
        "    StructField(\"ID\", IntegerType(), nullable=False),\n",
        "    StructField(\"DataProduct\", DateType(), nullable=False),\n",
        "    StructField(\"UserId\", IntegerType(), nullable=False),\n",
        "    StructField(\"Product\", StringType(), nullable=False),\n",
        "    StructField(\"Quantity\", IntegerType(), nullable=False),\n",
        "    StructField(\"Price\", IntegerType(), nullable=False),\n",
        "\n",
        "    ])\n",
        "\n",
        "# Инициализация Faker для генерации данных\n",
        "fake = Faker('Ru_RU')\n",
        "\n",
        "# Задаем начальную и конечную даты\n",
        "start_date = datetime(2024, 1, 1)\n",
        "end_date = datetime(2024, 7, 29)\n",
        "\n",
        "# Расчет количества дней между датами\n",
        "delta = end_date - start_date\n",
        "random_days = random.randint(0, delta.days)\n",
        "\n",
        "# Генерация случайной даты\n",
        "random_date = start_date + timedelta(days=random_days)\n",
        "\n",
        "print(f\"Случайная дата: {random_date.strftime('%Y-%m-%d')}\")\n",
        "\n",
        "#Генерация случайных данных\n",
        "user_input = int(input(\"Введите число - границу массива\"))\n",
        "print(user_input)\n",
        "data5 = []\n",
        "for i in range(1, user_input):\n",
        "    id = i\n",
        "    userid = random.randint(1, 7)\n",
        "    j = random.randint(1, 6)\n",
        "    product = names[j]\n",
        "\n",
        "    # Расчет количества дней между датами\n",
        "    delta = end_date - start_date\n",
        "    random_days = random.randint(0, delta.days)\n",
        "\n",
        "    # Генерация случайной даты\n",
        "    random_date = start_date + timedelta(days=random_days)\n",
        "    dataproduct = random_date\n",
        "\n",
        "    quantity = random.randint(1, 12)\n",
        "    price = random.randint(100, 2000)\n",
        "\n",
        "    data5.append((id, dataproduct,userid, product, quantity, price))\n",
        "\n",
        "# Создание DataFrame\n",
        "df5 = spark.createDataFrame(data5, schema5)\n",
        "\n",
        "# Первые 5 строк DataFrame\n",
        "df5.show(5)\n",
        "\n",
        "# Путь для сохранения файла\n",
        "output_path = \"1T_data4.csv\"\n",
        "\n",
        "# Выгрузка в csv\n",
        "df5.coalesce(1).write.csv(output_path, header=True)\n",
        "\n",
        "# Остановить SparkSession\n",
        "spark.stop()"
      ],
      "metadata": {
        "colab": {
          "base_uri": "https://localhost:8080/"
        },
        "id": "6i1aEQ10tK5X",
        "outputId": "93ab258a-051b-427b-8b86-57915b31ee8e"
      },
      "execution_count": 42,
      "outputs": [
        {
          "output_type": "stream",
          "name": "stdout",
          "text": [
            "Случайная дата: 2024-01-12\n",
            "Введите число - границу массива1000\n",
            "1000\n",
            "+---+-----------+------+---------------+--------+-----+\n",
            "| ID|DataProduct|UserId|        Product|Quantity|Price|\n",
            "+---+-----------+------+---------------+--------+-----+\n",
            "|  1| 2024-03-01|     6|       Пельмени|       4| 1880|\n",
            "|  2| 2024-05-01|     6|Сливочное масло|       2| 1070|\n",
            "|  3| 2024-06-22|     7|       Пельмени|       6| 1069|\n",
            "|  4| 2024-03-14|     4|         Молоко|       1| 1994|\n",
            "|  5| 2024-07-26|     5|           Мясо|       4|  833|\n",
            "+---+-----------+------+---------------+--------+-----+\n",
            "only showing top 5 rows\n",
            "\n"
          ]
        }
      ]
    }
  ]
}